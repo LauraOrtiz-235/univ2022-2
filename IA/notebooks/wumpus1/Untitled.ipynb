{
 "cells": [
  {
   "cell_type": "code",
   "execution_count": null,
   "id": "2bb7a522",
   "metadata": {},
   "outputs": [],
   "source": [
    "class Agente:\n",
    "\n",
    "\tdef __init__(self):\n",
    "\t\tself.perceptos = []\n",
    "\t\tself.acciones = []\n",
    "\t\tself.tabla = {}\n",
    "\t\tself.reglas = []\n",
    "\t\tself.base = LPQuery([])\n",
    "\t\tself.turno = 1"
   ]
  }
 ],
 "metadata": {
  "kernelspec": {
   "display_name": "Python 3 (ipykernel)",
   "language": "python",
   "name": "python3"
  },
  "language_info": {
   "codemirror_mode": {
    "name": "ipython",
    "version": 3
   },
   "file_extension": ".py",
   "mimetype": "text/x-python",
   "name": "python",
   "nbconvert_exporter": "python",
   "pygments_lexer": "ipython3",
   "version": "3.9.7"
  }
 },
 "nbformat": 4,
 "nbformat_minor": 5
}
