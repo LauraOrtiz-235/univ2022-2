{
 "cells": [
  {
   "cell_type": "markdown",
   "metadata": {},
   "source": [
    "<table>\n",
    "    <tr>\n",
    "        <td><img src=\"./imagenes/Macc.png\" width=\"400\"/></td>\n",
    "        <td>&nbsp;</td>\n",
    "        <td>\n",
    "            <h1 style=\"color:blue;text-align:left\">Inteligencia Artificial</h1></td>\n",
    "        <td>\n",
    "            <table><tr>\n",
    "            <tp><p style=\"font-size:150%;text-align:center\">Notebook</p></tp>\n",
    "            <tp><p style=\"font-size:150%;text-align:center\">Cálculo de eventos</p></tp>\n",
    "            </tr></table>\n",
    "        </td>\n",
    "    </tr>\n",
    "</table>\n",
    "\n",
    "---\n"
   ]
  },
  {
   "cell_type": "markdown",
   "metadata": {},
   "source": [
    "## Objetivo <a class=\"anchor\" id=\"inicio\"></a>\n",
    "\n",
    "En este notebook veremos una manera de implementar el razonamiento de sentido común usando el Cálculo de Eventos Discreto.\n",
    "\n",
    "Basado en Mueller, E. T. (2006). *Commonsense Reasoning*. Morgan Kaufmann/Elsevier, San Francisco. Ver el [sitio web](https://decreasoner.sourceforge.net/) del programa ya implementado.\n",
    "\n",
    "## Secciones\n",
    "\n",
    "Desarrollaremos la explicación en las siguientes secciones:\n",
    "\n",
    "* [Constantes y predicados.](#consts)\n",
    "* [Fluentes, eventos e instantes.](#fluev)\n",
    "* [Situaciones.](#sits)\n",
    "* [Fórmulas.](#forms)\n",
    "* [Cuantificadores.](#cuants)\n",
    "* [Axiomas.](#axs)\n",
    "* [Uso de bases de conocimiento.](#base)\n",
    "* [Codificación de fórmulas fundamentadas.](#cod)\n",
    "* [Uso de DPLL.](#dpll)"
   ]
  },
  {
   "cell_type": "code",
   "execution_count": 1,
   "metadata": {},
   "outputs": [],
   "source": [
    "from logica import *\n",
    "from ec import *\n",
    "import pycosat"
   ]
  },
  {
   "cell_type": "markdown",
   "metadata": {},
   "source": [
    "# Constantes y predicados \n",
    "<a class=\"anchor\" id=\"consts\"></a>\n",
    "\n",
    "([Volver al inicio](#inicio))\n",
    "\n"
   ]
  },
  {
   "cell_type": "markdown",
   "metadata": {},
   "source": [
    "**Constantes:**"
   ]
  },
  {
   "cell_type": "code",
   "execution_count": 2,
   "metadata": {},
   "outputs": [
    {
     "name": "stdout",
     "output_type": "stream",
     "text": [
      "nombre:pedro, tipo:agente, clase:Constante\n"
     ]
    }
   ],
   "source": [
    "p = Constante(tipo='agente', nombre='pedro')\n",
    "print(f'nombre:{p}, tipo:{p.tipo}, clase:{obtener_type(p)}')"
   ]
  },
  {
   "cell_type": "code",
   "execution_count": 3,
   "metadata": {
    "scrolled": true
   },
   "outputs": [
    {
     "name": "stdout",
     "output_type": "stream",
     "text": [
      "nombre:bogota, tipo:lugar, clase:Constante\n"
     ]
    }
   ],
   "source": [
    "b = Constante(tipo='lugar', nombre='bogota')\n",
    "print(f'nombre:{b}, tipo:{b.tipo}, clase:{obtener_type(b)}')"
   ]
  },
  {
   "cell_type": "markdown",
   "metadata": {},
   "source": [
    "**Predicados:**"
   ]
  },
  {
   "cell_type": "code",
   "execution_count": 4,
   "metadata": {},
   "outputs": [
    {
     "name": "stdout",
     "output_type": "stream",
     "text": [
      "str:Dormido(pedro), nombre:Dormido, \n",
      "tipos:['agente'], argumentos:[<ec.Constante object at 0x7f9d444e8eb0>], clase:Atomo\n"
     ]
    }
   ],
   "source": [
    "atomo = Atomo(nombre='dormido', tipos_argumentos=['agente'], argumentos=[p])\n",
    "print(f'str:{atomo}, nombre:{atomo.nombre}, \\ntipos:{atomo.predicado.tipos_argumentos}, argumentos:{atomo.argumentos}, clase:{obtener_type(atomo)}')"
   ]
  },
  {
   "cell_type": "markdown",
   "metadata": {},
   "source": [
    "# Fluentes, eventos e instantes \n",
    "<a class=\"anchor\" id=\"fluev\"></a>\n",
    "\n",
    "([Volver al inicio](#inicio))\n",
    "\n"
   ]
  },
  {
   "cell_type": "markdown",
   "metadata": {},
   "source": [
    "**Fluentes:**"
   ]
  },
  {
   "cell_type": "code",
   "execution_count": 5,
   "metadata": {},
   "outputs": [
    {
     "name": "stdout",
     "output_type": "stream",
     "text": [
      "str:f_0, nombre:Dormido, tipo:fluente, clase:Fluente\n"
     ]
    }
   ],
   "source": [
    "flu = Fluente(nombre=atomo.nombre, atomo=atomo)\n",
    "print(f'str:{flu}, nombre:{flu.nombre}, tipo:{flu.tipo}, clase:{obtener_type(flu)}')"
   ]
  },
  {
   "cell_type": "markdown",
   "metadata": {},
   "source": [
    "**Eventos:**"
   ]
  },
  {
   "cell_type": "code",
   "execution_count": 6,
   "metadata": {},
   "outputs": [
    {
     "name": "stdout",
     "output_type": "stream",
     "text": [
      "str:e_0, nombre:DESPERTAR, tipo:evento, clase:Evento\n",
      "['DESPERTAR(e_0)', 'SUJETO(e_0,pedro)', 'EN(e_0,bogota)']\n"
     ]
    }
   ],
   "source": [
    "e = Evento(nombre='DESPERTAR', sujeto=p, lugar=b)\n",
    "print(f'str:{e}, nombre:{e.nombre}, tipo:{e.tipo}, clase:{obtener_type(e)}')\n",
    "print(e.formular())"
   ]
  },
  {
   "cell_type": "markdown",
   "metadata": {},
   "source": [
    "**Instantes:**"
   ]
  },
  {
   "cell_type": "code",
   "execution_count": 7,
   "metadata": {},
   "outputs": [
    {
     "name": "stdout",
     "output_type": "stream",
     "text": [
      "valor:0, tipo:instante, clase:Instante\n"
     ]
    }
   ],
   "source": [
    "t = Instante(0)\n",
    "print(f'valor:{t.valor}, tipo:{t.tipo}, clase:{obtener_type(t)}')"
   ]
  },
  {
   "cell_type": "markdown",
   "metadata": {},
   "source": [
    "# Situaciones <a class=\"anchor\" id=\"sits\"></a>\n",
    "\n",
    "([Volver al inicio](#inicio))"
   ]
  },
  {
   "cell_type": "code",
   "execution_count": 8,
   "metadata": {},
   "outputs": [
    {
     "name": "stdout",
     "output_type": "stream",
     "text": [
      "Instantes: ['0', '1', '2']\n",
      "\n",
      "Entidades:\n",
      "\tTipo: objeto\n",
      "\tluz\n",
      "\n",
      "Eventos:\n",
      "\te_0:\n",
      "\tENCENDER(e_0)\n",
      "\n",
      "\te_1:\n",
      "\tAPAGAR(e_1)\n",
      "\n",
      "Fluentes:\n",
      "\tf_0: Encendida(luz)\n",
      "\n"
     ]
    }
   ],
   "source": [
    "sit = Situacion()\n",
    "sit.nueva_entidad('objeto', 'luz')\n",
    "o = sit.entidades['objeto'][0]\n",
    "for t in range(3):\n",
    "    sit.nuevo_instante()\n",
    "sit.nuevo_evento('encender')\n",
    "sit.nuevo_evento('apagar')\n",
    "atomo = Atomo('encendida', ['objeto'], [o])\n",
    "sit.nuevo_fluente(atomo)\n",
    "print(sit)"
   ]
  },
  {
   "cell_type": "markdown",
   "metadata": {},
   "source": [
    "<a class=\"anchor\" id=\"ej1\"></a>**Ejercicio 1:** \n",
    "\n",
    "([Próximo ejercicio](#ej2))\n",
    "\n",
    "Cree una nueva situación `sit2` e incluya las entidades Pedro y Bogotá, el fluente `Dormido` y el evento `DESPERTAR` (con las características mostradas anteriormente), con dos instantes de tiempo. Visualice la nueva situación."
   ]
  },
  {
   "cell_type": "markdown",
   "metadata": {},
   "source": [
    "---"
   ]
  },
  {
   "cell_type": "markdown",
   "metadata": {},
   "source": [
    "# Fórmulas <a class=\"anchor\" id=\"forms\"></a>\n",
    "\n",
    "([Volver al inicio](#inicio))\n",
    "\n",
    "Tenemos fórmulas referentes a la relación entre las constantes de eventos, fluentes e instantes:\n",
    "\n",
    "* Happens(e,t)\n",
    "* HoldsAt(f,t)\n",
    "* Initiates(e,f,t)\n",
    "* Terminates(e,f,t)\n",
    "* Antes(t1,t2)\n",
    "\n",
    "Todas estas fórmulas reciben o bien índices o bien constantes:"
   ]
  },
  {
   "cell_type": "code",
   "execution_count": 9,
   "metadata": {},
   "outputs": [
    {
     "name": "stdout",
     "output_type": "stream",
     "text": [
      "Happens(ev0,ti0)\n",
      "HoldsAt(flu0,ti0)\n",
      "Initiates(ev0,flu0,ti0)\n",
      "Terminates(ev0,flu0,ti0)\n",
      "ti0<ti1\n"
     ]
    }
   ],
   "source": [
    "haps1 = Happens(0, 0)\n",
    "print(haps1)\n",
    "holds1 = HoldsAt(0, 0)\n",
    "print(holds1)\n",
    "ini1 = Initiates(0, 0, 0)\n",
    "print(ini1)\n",
    "term1 = Terminates(0, 0, 0)\n",
    "print(term1)\n",
    "rel1 = Antes(0, 1)\n",
    "print(rel1)"
   ]
  },
  {
   "cell_type": "code",
   "execution_count": 10,
   "metadata": {},
   "outputs": [
    {
     "name": "stdout",
     "output_type": "stream",
     "text": [
      "Happens(e_0,0)\n"
     ]
    }
   ],
   "source": [
    "p = Constante(tipo='agente', nombre='pedro')\n",
    "b = Constante(tipo='lugar', nombre='bogota')\n",
    "atomo = Atomo(nombre='dormido', tipos_argumentos=['agente'], argumentos=[p])\n",
    "flu = Fluente(nombre=atomo.nombre, atomo=atomo)\n",
    "e = Evento(nombre='DESPERTAR', sujeto=p, lugar=b)\n",
    "t = Instante(0)\n",
    "haps = Happens(0, 0, e=e,t=t)\n",
    "print(haps)"
   ]
  },
  {
   "cell_type": "markdown",
   "metadata": {},
   "source": [
    "**Función** `sust`:"
   ]
  },
  {
   "cell_type": "code",
   "execution_count": 11,
   "metadata": {},
   "outputs": [
    {
     "name": "stdout",
     "output_type": "stream",
     "text": [
      "Happens(ev0,ti0) => Happens(e_0,ti0)\n",
      "Terminates(ev0,flu0,ti0) => Terminates(e_0,f_0,0)\n",
      "ti0<ti1 => ti0<0\n"
     ]
    }
   ],
   "source": [
    "p = Constante(tipo='agente', nombre='pedro')\n",
    "b = Constante(tipo='lugar', nombre='bogota')\n",
    "atomo = Atomo(nombre='dormido', tipos_argumentos=['agente'], argumentos=[p])\n",
    "flu = Fluente(nombre=atomo.nombre, atomo=atomo)\n",
    "e = Evento(nombre='DESPERTAR', sujeto=p, lugar=b)\n",
    "t = Instante(0)\n",
    "haps2 = sust(haps1, 0, e)\n",
    "print(haps1, '=>', haps2)\n",
    "term2 = sust(term1, 0, e)\n",
    "term2 = sust(term2, 0, flu)\n",
    "term2 = sust(term2, 0, t)\n",
    "print(term1, '=>', term2)\n",
    "rel2 = sust(rel1, 1, t)\n",
    "print(rel1, '=>', rel2)"
   ]
  },
  {
   "cell_type": "markdown",
   "metadata": {},
   "source": [
    "También tenemos fórmulas relacionadas con las constantes lógicas:\n",
    "\n",
    "* Y\n",
    "* O\n",
    "* Regla\n",
    "* Negacion"
   ]
  },
  {
   "cell_type": "code",
   "execution_count": 12,
   "metadata": {},
   "outputs": [
    {
     "name": "stdout",
     "output_type": "stream",
     "text": [
      "(Happens(ev0,ti1)∧ti0<ti1)\n",
      "-(Happens(ev0,ti1)∧ti0<ti1)\n",
      "(-(Happens(ev0,ti1)∧ti0<ti1)⇒-ti0<ti1)\n"
     ]
    }
   ],
   "source": [
    "f1 = Y([Happens(0, 1), Antes(0, 1),])\n",
    "print(f1)\n",
    "f2 = Negacion(f1)\n",
    "print(f2)\n",
    "f3 = Regla(f2, Negacion(Antes(0, 1)))\n",
    "print(f3)"
   ]
  },
  {
   "cell_type": "markdown",
   "metadata": {},
   "source": [
    "# Cuantificadores <a class=\"anchor\" id=\"cuants\"></a>\n",
    "\n",
    "([Volver al inicio](#inicio))"
   ]
  },
  {
   "cell_type": "markdown",
   "metadata": {},
   "source": [
    "**Cuantificador universal:**"
   ]
  },
  {
   "cell_type": "code",
   "execution_count": 13,
   "metadata": {},
   "outputs": [
    {
     "name": "stdout",
     "output_type": "stream",
     "text": [
      "((Initiates(e_0,f_0,0)∧Initiates(e_0,f_0,1))∧Initiates(e_0,f_0,2))\n"
     ]
    }
   ],
   "source": [
    "e = sit.eventos[0]\n",
    "f = sit.fluentes[0]\n",
    "Qt = Cuantificador('instante', 'todo', 0)\n",
    "form1 = Cuantificada(Qt, Initiates(0, 0, 0, e=e, f=f), sit)\n",
    "print(form1)"
   ]
  },
  {
   "cell_type": "markdown",
   "metadata": {},
   "source": [
    "**Cuantificador existencial:**"
   ]
  },
  {
   "cell_type": "code",
   "execution_count": 14,
   "metadata": {},
   "outputs": [
    {
     "name": "stdout",
     "output_type": "stream",
     "text": [
      "((Initiates(e_0,f_0,0)∨Initiates(e_0,f_0,1))∨Initiates(e_0,f_0,2))\n"
     ]
    }
   ],
   "source": [
    "e = sit.eventos[0]\n",
    "f = sit.fluentes[0]\n",
    "Et = Cuantificador('instante', 'existe', 0)\n",
    "form2 = Cuantificada(Et, Initiates(0, 0, 0, e=e, f=f), sit)\n",
    "print(form2)"
   ]
  },
  {
   "cell_type": "code",
   "execution_count": 15,
   "metadata": {},
   "outputs": [
    {
     "data": {
      "text/plain": [
       "[<ec.Instante at 0x7f9d444f7340>,\n",
       " <ec.Instante at 0x7f9d444f70a0>,\n",
       " <ec.Instante at 0x7f9d444f7e50>]"
      ]
     },
     "execution_count": 15,
     "metadata": {},
     "output_type": "execute_result"
    }
   ],
   "source": [
    "sit.instantes"
   ]
  },
  {
   "cell_type": "code",
   "execution_count": 16,
   "metadata": {},
   "outputs": [
    {
     "name": "stdout",
     "output_type": "stream",
     "text": [
      "0<ti1\n"
     ]
    }
   ],
   "source": [
    "t0 = sit.instantes[0]\n",
    "f6 = Antes(0, 1, t1=t0)\n",
    "print(f6)"
   ]
  },
  {
   "cell_type": "code",
   "execution_count": 18,
   "metadata": {},
   "outputs": [
    {
     "name": "stdout",
     "output_type": "stream",
     "text": [
      "((0<0∧0<1)∧0<2)\n"
     ]
    }
   ],
   "source": [
    "qt = Cuantificador('instante', 'todo', 1)\n",
    "f7 = Cuantificada(qt, f6, sit)\n",
    "print(f7)"
   ]
  },
  {
   "cell_type": "markdown",
   "metadata": {},
   "source": [
    "<a class=\"anchor\" id=\"ej2\"></a>**Ejercicio 2:** \n",
    "\n",
    "([Anterior ejercicio](#ej1)) ([Próximo ejercicio](#ej3))\n",
    "\n",
    "Cree la fórmula `StoppedIn(f_0,0,2)`:\n",
    "\n",
    "$$ \\exists e,t \\left(Happens(e,t)\\land 0<t<2\\land Terminates(e,f_0,t)\\right) $$\n",
    "\n",
    "**Nota:**\n",
    "\n",
    "La respuesta debe ser:\n",
    "```\n",
    "((((((Happens(e_0,0)∧0<0)∧0<2)∧Terminates(e_0,f_0,0))∧(((Happens(e_0,1)∧0<1)∧1<2)∧Terminates(e_0,f_0,1)))∧(((Happens(e_0,2)∧0<2)∧2<2)∧Terminates(e_0,f_0,2)))∧(((((Happens(e_1,0)∧0<0)∧0<2)∧Terminates(e_1,f_0,0))∧(((Happens(e_1,1)∧0<1)∧1<2)∧Terminates(e_1,f_0,1)))∧(((Happens(e_1,2)∧0<2)∧2<2)∧Terminates(e_1,f_0,2))))\n",
    "```"
   ]
  },
  {
   "cell_type": "code",
   "execution_count": 27,
   "metadata": {
    "scrolled": true
   },
   "outputs": [
    {
     "name": "stdout",
     "output_type": "stream",
     "text": [
      "Happens(ev0,ti1)\n",
      "0<ti1\n",
      "ti1<2\n",
      "Terminates(ev0,f_0,ti1)\n",
      "(((Happens(ev0,ti1)∧0<ti1)∧ti1<2)∧Terminates(ev0,f_0,ti1))\n",
      "(((((Happens(ev0,0)∧0<0)∧0<2)∧Terminates(ev0,f_0,0))∨(((Happens(ev0,1)∧0<1)∧1<2)∧Terminates(ev0,f_0,1)))∨(((Happens(ev0,2)∧0<2)∧2<2)∧Terminates(ev0,f_0,2)))\n",
      "((((((Happens(e_0,0)∧0<0)∧0<2)∧Terminates(e_0,f_0,0))∨(((Happens(e_0,1)∧0<1)∧1<2)∧Terminates(e_0,f_0,1)))∨(((Happens(e_0,2)∧0<2)∧2<2)∧Terminates(e_0,f_0,2)))∨(((((Happens(e_1,0)∧0<0)∧0<2)∧Terminates(e_1,f_0,0))∨(((Happens(e_1,1)∧0<1)∧1<2)∧Terminates(e_1,f_0,1)))∨(((Happens(e_1,2)∧0<2)∧2<2)∧Terminates(e_1,f_0,2))))\n"
     ]
    }
   ],
   "source": [
    "t0 = sit.instantes[0]\n",
    "t2 = sit.instantes[2]\n",
    "h1 = Happens(0,1)\n",
    "print(h1)\n",
    "\n",
    "a1 = Antes(0, 1, t1 = t0)\n",
    "print(a1)\n",
    "\n",
    "a2 = Antes(1, 2, t2 = t2)\n",
    "print(a2)\n",
    "\n",
    "f1 = sit.fluentes[0]\n",
    "term1 = Terminates(0, 0, 1, f = f1)\n",
    "print(term1)\n",
    "\n",
    "y1 = Y([h1, a1, a2, term1])\n",
    "print(y1)\n",
    "\n",
    "qt = Cuantificador('instante', 'existe', 1)\n",
    "formula = Cuantificada(qt, y1, sit)\n",
    "print(formula)\n",
    "\n",
    "qt2 = Cuantificador('evento', 'existe', 0)\n",
    "formula2 = Cuantificada(qt2, formula, sit)\n",
    "print(formula2)"
   ]
  },
  {
   "cell_type": "markdown",
   "metadata": {},
   "source": [
    "---"
   ]
  },
  {
   "cell_type": "markdown",
   "metadata": {},
   "source": [
    "# Axiomas <a class=\"anchor\" id=\"axs\"></a>\n",
    "\n",
    "([Volver al inicio](#inicio))\n",
    "\n",
    "$$ \\left(Happens(e,t_1)\\land Initiates(e,f,t_1)\\land t_1<t_2\\right)\\to HoldsAt(f, t_2) $$"
   ]
  },
  {
   "cell_type": "code",
   "execution_count": 28,
   "metadata": {},
   "outputs": [
    {
     "name": "stdout",
     "output_type": "stream",
     "text": [
      "((((((((Happens(e_0,0)∧Initiates(e_0,f_0,0))∧0<0)⇒HoldsAt(f_0,0))∧(((Happens(e_1,0)∧Initiates(e_1,f_0,0))∧0<0)⇒HoldsAt(f_0,0)))∧((((Happens(e_0,1)∧Initiates(e_0,f_0,1))∧1<0)⇒HoldsAt(f_0,0))∧(((Happens(e_1,1)∧Initiates(e_1,f_0,1))∧1<0)⇒HoldsAt(f_0,0))))∧((((Happens(e_0,2)∧Initiates(e_0,f_0,2))∧2<0)⇒HoldsAt(f_0,0))∧(((Happens(e_1,2)∧Initiates(e_1,f_0,2))∧2<0)⇒HoldsAt(f_0,0))))∧((((((Happens(e_0,0)∧Initiates(e_0,f_0,0))∧0<1)⇒HoldsAt(f_0,1))∧(((Happens(e_1,0)∧Initiates(e_1,f_0,0))∧0<1)⇒HoldsAt(f_0,1)))∧((((Happens(e_0,1)∧Initiates(e_0,f_0,1))∧1<1)⇒HoldsAt(f_0,1))∧(((Happens(e_1,1)∧Initiates(e_1,f_0,1))∧1<1)⇒HoldsAt(f_0,1))))∧((((Happens(e_0,2)∧Initiates(e_0,f_0,2))∧2<1)⇒HoldsAt(f_0,1))∧(((Happens(e_1,2)∧Initiates(e_1,f_0,2))∧2<1)⇒HoldsAt(f_0,1)))))∧((((((Happens(e_0,0)∧Initiates(e_0,f_0,0))∧0<2)⇒HoldsAt(f_0,2))∧(((Happens(e_1,0)∧Initiates(e_1,f_0,0))∧0<2)⇒HoldsAt(f_0,2)))∧((((Happens(e_0,1)∧Initiates(e_0,f_0,1))∧1<2)⇒HoldsAt(f_0,2))∧(((Happens(e_1,1)∧Initiates(e_1,f_0,1))∧1<2)⇒HoldsAt(f_0,2))))∧((((Happens(e_0,2)∧Initiates(e_0,f_0,2))∧2<2)⇒HoldsAt(f_0,2))∧(((Happens(e_1,2)∧Initiates(e_1,f_0,2))∧2<2)⇒HoldsAt(f_0,2)))))\n"
     ]
    }
   ],
   "source": [
    "def axioma_lite_initiates(e, f):\n",
    "    ante = Y([\n",
    "        Happens(0, 1), \n",
    "        Initiates(0, 0, 1),\n",
    "        Antes(1, 2), \n",
    "    ])\n",
    "    cons = HoldsAt(0, 2)\n",
    "    reg = Regla(ante, cons)\n",
    "    Ee = Cuantificador('evento', 'todo', 0)\n",
    "    axioma = Cuantificada(Ee, reg, sit)\n",
    "    Ef = Cuantificador('fluente', 'todo', 0)\n",
    "    axioma = Cuantificada(Ef, axioma, sit)\n",
    "    Et1 = Cuantificador('instante', 'todo', 1)\n",
    "    axioma = Cuantificada(Et1, axioma, sit)\n",
    "    Et2 = Cuantificador('instante', 'todo', 2)\n",
    "    return Cuantificada(Et2, axioma, sit)\n",
    "\n",
    "e = sit.eventos[0]\n",
    "f = sit.fluentes[0]\n",
    "axio_lite1 = axioma_lite_initiates(e, f)\n",
    "print(axio_lite1)"
   ]
  },
  {
   "cell_type": "markdown",
   "metadata": {},
   "source": [
    "<a class=\"anchor\" id=\"ej3\"></a>**Ejercicio 3:** \n",
    "\n",
    "([Anterior ejercicio](#ej2)) ([Próximo ejercicio](#ej4))\n",
    "\n",
    "Cree el axioma para controlar que un evento termina un fluente:\n",
    "\n",
    "$$ \\left(Happens(e,t_1)\\land Terminates(e,f,t_1)\\land t_1<t_2\\right)\\to\\neg HoldsAt(f, t_2) $$\n",
    "\n",
    "**Nota:**\n",
    "\n",
    "La respuesta debe ser\n",
    "\n",
    "```\n",
    "((((((((Happens(e_0,0)∧Terminates(e_0,f_0,0))∧0<0)⇒-HoldsAt(f_0,0))∧(((Happens(e_1,0)∧Terminates(e_1,f_0,0))∧0<0)⇒-HoldsAt(f_0,0)))∧((((Happens(e_0,1)∧Terminates(e_0,f_0,1))∧1<0)⇒-HoldsAt(f_0,0))∧(((Happens(e_1,1)∧Terminates(e_1,f_0,1))∧1<0)⇒-HoldsAt(f_0,0))))∧((((Happens(e_0,2)∧Terminates(e_0,f_0,2))∧2<0)⇒-HoldsAt(f_0,0))∧(((Happens(e_1,2)∧Terminates(e_1,f_0,2))∧2<0)⇒-HoldsAt(f_0,0))))∧((((((Happens(e_0,0)∧Terminates(e_0,f_0,0))∧0<1)⇒-HoldsAt(f_0,1))∧(((Happens(e_1,0)∧Terminates(e_1,f_0,0))∧0<1)⇒-HoldsAt(f_0,1)))∧((((Happens(e_0,1)∧Terminates(e_0,f_0,1))∧1<1)⇒-HoldsAt(f_0,1))∧(((Happens(e_1,1)∧Terminates(e_1,f_0,1))∧1<1)⇒-HoldsAt(f_0,1))))∧((((Happens(e_0,2)∧Terminates(e_0,f_0,2))∧2<1)⇒-HoldsAt(f_0,1))∧(((Happens(e_1,2)∧Terminates(e_1,f_0,2))∧2<1)⇒-HoldsAt(f_0,1)))))∧((((((Happens(e_0,0)∧Terminates(e_0,f_0,0))∧0<2)⇒-HoldsAt(f_0,2))∧(((Happens(e_1,0)∧Terminates(e_1,f_0,0))∧0<2)⇒-HoldsAt(f_0,2)))∧((((Happens(e_0,1)∧Terminates(e_0,f_0,1))∧1<2)⇒-HoldsAt(f_0,2))∧(((Happens(e_1,1)∧Terminates(e_1,f_0,1))∧1<2)⇒-HoldsAt(f_0,2))))∧((((Happens(e_0,2)∧Terminates(e_0,f_0,2))∧2<2)⇒-HoldsAt(f_0,2))∧(((Happens(e_1,2)∧Terminates(e_1,f_0,2))∧2<2)⇒-HoldsAt(f_0,2)))))\n",
    "```"
   ]
  },
  {
   "cell_type": "code",
   "execution_count": null,
   "metadata": {},
   "outputs": [],
   "source": [
    "def axioma_lite_terminates(e, f):\n",
    "    pass\n",
    "    ante = Y([\n",
    "        Happens(0, 1), \n",
    "        Initiates(0, 0, 1),\n",
    "        Antes(1, 2), \n",
    "    ])\n",
    "    cons = HoldsAt(0, 2)\n",
    "    reg = Regla(ante, cons)\n",
    "    Ee = Cuantificador('evento', 'todo', 0)\n",
    "    axioma = Cuantificada(Ee, reg, sit)\n",
    "    Ef = Cuantificador('fluente', 'todo', 0)\n",
    "    axioma = Cuantificada(Ef, axioma, sit)\n",
    "    Et1 = Cuantificador('instante', 'todo', 1)\n",
    "    axioma = Cuantificada(Et1, axioma, sit)\n",
    "    Et2 = Cuantificador('instante', 'todo', 2)\n",
    "    return Cuantificada(Et2, axioma, sit)\n",
    "\n",
    "\n",
    "e = sit.eventos[1]\n",
    "f = sit.fluentes[0]\n",
    "axio_lite2 = axioma_lite_terminates(e, f)\n",
    "print(axio_lite2)      "
   ]
  },
  {
   "cell_type": "markdown",
   "metadata": {},
   "source": [
    "---"
   ]
  },
  {
   "cell_type": "markdown",
   "metadata": {},
   "source": [
    "# Uso de bases de conocimiento <a class=\"anchor\" id=\"base\"></a>\n",
    "\n",
    "([Volver al inicio](#inicio))"
   ]
  },
  {
   "cell_type": "code",
   "execution_count": 29,
   "metadata": {},
   "outputs": [
    {
     "data": {
      "text/plain": [
       "['Happens(e_0,0)∧Initiates(e_0,f_0,0)∧0<0⇒HoldsAt(f_0,0)',\n",
       " 'Happens(e_1,0)∧Initiates(e_1,f_0,0)∧0<0⇒HoldsAt(f_0,0)',\n",
       " 'Happens(e_0,1)∧Initiates(e_0,f_0,1)∧1<0⇒HoldsAt(f_0,0)',\n",
       " 'Happens(e_1,1)∧Initiates(e_1,f_0,1)∧1<0⇒HoldsAt(f_0,0)',\n",
       " 'Happens(e_0,2)∧Initiates(e_0,f_0,2)∧2<0⇒HoldsAt(f_0,0)',\n",
       " 'Happens(e_1,2)∧Initiates(e_1,f_0,2)∧2<0⇒HoldsAt(f_0,0)',\n",
       " 'Happens(e_0,0)∧Initiates(e_0,f_0,0)∧0<1⇒HoldsAt(f_0,1)',\n",
       " 'Happens(e_1,0)∧Initiates(e_1,f_0,0)∧0<1⇒HoldsAt(f_0,1)',\n",
       " 'Happens(e_0,1)∧Initiates(e_0,f_0,1)∧1<1⇒HoldsAt(f_0,1)',\n",
       " 'Happens(e_1,1)∧Initiates(e_1,f_0,1)∧1<1⇒HoldsAt(f_0,1)',\n",
       " 'Happens(e_0,2)∧Initiates(e_0,f_0,2)∧2<1⇒HoldsAt(f_0,1)',\n",
       " 'Happens(e_1,2)∧Initiates(e_1,f_0,2)∧2<1⇒HoldsAt(f_0,1)',\n",
       " 'Happens(e_0,0)∧Initiates(e_0,f_0,0)∧0<2⇒HoldsAt(f_0,2)',\n",
       " 'Happens(e_1,0)∧Initiates(e_1,f_0,0)∧0<2⇒HoldsAt(f_0,2)',\n",
       " 'Happens(e_0,1)∧Initiates(e_0,f_0,1)∧1<2⇒HoldsAt(f_0,2)',\n",
       " 'Happens(e_1,1)∧Initiates(e_1,f_0,1)∧1<2⇒HoldsAt(f_0,2)',\n",
       " 'Happens(e_0,2)∧Initiates(e_0,f_0,2)∧2<2⇒HoldsAt(f_0,2)',\n",
       " 'Happens(e_1,2)∧Initiates(e_1,f_0,2)∧2<2⇒HoldsAt(f_0,2))']"
      ]
     },
     "execution_count": 29,
     "metadata": {},
     "output_type": "execute_result"
    }
   ],
   "source": [
    "def limpiar_para_reglas(formula):\n",
    "    reglas = str(formula).split(')∧(')\n",
    "    #reglas = [r[1:] for r in reglas]\n",
    "    reglas = [r.replace(')⇒', '⇒') for r in reglas]\n",
    "    reglas = [r.replace('((', '') for r in reglas]\n",
    "    reglas = [r.replace('))', ')') for r in reglas]\n",
    "    reglas = [r.replace('))', ')') for r in reglas]\n",
    "    reglas = [r.replace('(H', 'H') for r in reglas]\n",
    "    return reglas\n",
    "\n",
    "reglas = limpiar_para_reglas(axio_lite1)\n",
    "reglas"
   ]
  },
  {
   "cell_type": "code",
   "execution_count": 30,
   "metadata": {},
   "outputs": [
    {
     "name": "stdout",
     "output_type": "stream",
     "text": [
      "Hechos:\n",
      "\n",
      "Reglas:\n",
      "Happens(e_0,0)∧Initiates(e_0,f_0,0)∧0<0⇒HoldsAt(f_0,0)\n",
      "Happens(e_1,0)∧Initiates(e_1,f_0,0)∧0<0⇒HoldsAt(f_0,0)\n",
      "Happens(e_0,1)∧Initiates(e_0,f_0,1)∧1<0⇒HoldsAt(f_0,0)\n",
      "Happens(e_1,1)∧Initiates(e_1,f_0,1)∧1<0⇒HoldsAt(f_0,0)\n",
      "Happens(e_0,2)∧Initiates(e_0,f_0,2)∧2<0⇒HoldsAt(f_0,0)\n",
      "Happens(e_1,2)∧Initiates(e_1,f_0,2)∧2<0⇒HoldsAt(f_0,0)\n",
      "Happens(e_0,0)∧Initiates(e_0,f_0,0)∧0<1⇒HoldsAt(f_0,1)\n",
      "Happens(e_1,0)∧Initiates(e_1,f_0,0)∧0<1⇒HoldsAt(f_0,1)\n",
      "Happens(e_0,1)∧Initiates(e_0,f_0,1)∧1<1⇒HoldsAt(f_0,1)\n",
      "Happens(e_1,1)∧Initiates(e_1,f_0,1)∧1<1⇒HoldsAt(f_0,1)\n",
      "Happens(e_0,2)∧Initiates(e_0,f_0,2)∧2<1⇒HoldsAt(f_0,1)\n",
      "Happens(e_1,2)∧Initiates(e_1,f_0,2)∧2<1⇒HoldsAt(f_0,1)\n",
      "Happens(e_0,0)∧Initiates(e_0,f_0,0)∧0<2⇒HoldsAt(f_0,2)\n",
      "Happens(e_1,0)∧Initiates(e_1,f_0,0)∧0<2⇒HoldsAt(f_0,2)\n",
      "Happens(e_0,1)∧Initiates(e_0,f_0,1)∧1<2⇒HoldsAt(f_0,2)\n",
      "Happens(e_1,1)∧Initiates(e_1,f_0,1)∧1<2⇒HoldsAt(f_0,2)\n",
      "Happens(e_0,2)∧Initiates(e_0,f_0,2)∧2<2⇒HoldsAt(f_0,2)\n",
      "Happens(e_1,2)∧Initiates(e_1,f_0,2)∧2<2⇒HoldsAt(f_0,2))\n",
      "\n"
     ]
    }
   ],
   "source": [
    "b = LPQuery(reglas)\n",
    "print(b)"
   ]
  },
  {
   "cell_type": "code",
   "execution_count": 31,
   "metadata": {},
   "outputs": [
    {
     "data": {
      "text/plain": [
       "['0<1', '0<2', '1<2']"
      ]
     },
     "execution_count": 31,
     "metadata": {},
     "output_type": "execute_result"
    }
   ],
   "source": [
    "tps = [t.valor for t in sit.instantes]\n",
    "hechos_tiempos = [f'{x}<{y}' for x in tps for y in tps if x<y]\n",
    "hechos_tiempos"
   ]
  },
  {
   "cell_type": "code",
   "execution_count": 32,
   "metadata": {},
   "outputs": [
    {
     "name": "stdout",
     "output_type": "stream",
     "text": [
      "Hechos:\n",
      "HoldsAt(f_0,0)\n",
      "Happens(e_0,0)\n",
      "Initiates(e_0,f_0,0)\n",
      "Initiates(e_0,f_0,1)\n",
      "Initiates(e_0,f_0,2)\n",
      "0<1\n",
      "0<2\n",
      "1<2\n",
      "\n",
      "Reglas:\n",
      "Happens(e_0,0)∧Initiates(e_0,f_0,0)∧0<0⇒HoldsAt(f_0,0)\n",
      "Happens(e_1,0)∧Initiates(e_1,f_0,0)∧0<0⇒HoldsAt(f_0,0)\n",
      "Happens(e_0,1)∧Initiates(e_0,f_0,1)∧1<0⇒HoldsAt(f_0,0)\n",
      "Happens(e_1,1)∧Initiates(e_1,f_0,1)∧1<0⇒HoldsAt(f_0,0)\n",
      "Happens(e_0,2)∧Initiates(e_0,f_0,2)∧2<0⇒HoldsAt(f_0,0)\n",
      "Happens(e_1,2)∧Initiates(e_1,f_0,2)∧2<0⇒HoldsAt(f_0,0)\n",
      "Happens(e_0,0)∧Initiates(e_0,f_0,0)∧0<1⇒HoldsAt(f_0,1)\n",
      "Happens(e_1,0)∧Initiates(e_1,f_0,0)∧0<1⇒HoldsAt(f_0,1)\n",
      "Happens(e_0,1)∧Initiates(e_0,f_0,1)∧1<1⇒HoldsAt(f_0,1)\n",
      "Happens(e_1,1)∧Initiates(e_1,f_0,1)∧1<1⇒HoldsAt(f_0,1)\n",
      "Happens(e_0,2)∧Initiates(e_0,f_0,2)∧2<1⇒HoldsAt(f_0,1)\n",
      "Happens(e_1,2)∧Initiates(e_1,f_0,2)∧2<1⇒HoldsAt(f_0,1)\n",
      "Happens(e_0,0)∧Initiates(e_0,f_0,0)∧0<2⇒HoldsAt(f_0,2)\n",
      "Happens(e_1,0)∧Initiates(e_1,f_0,0)∧0<2⇒HoldsAt(f_0,2)\n",
      "Happens(e_0,1)∧Initiates(e_0,f_0,1)∧1<2⇒HoldsAt(f_0,2)\n",
      "Happens(e_1,1)∧Initiates(e_1,f_0,1)∧1<2⇒HoldsAt(f_0,2)\n",
      "Happens(e_0,2)∧Initiates(e_0,f_0,2)∧2<2⇒HoldsAt(f_0,2)\n",
      "Happens(e_1,2)∧Initiates(e_1,f_0,2)∧2<2⇒HoldsAt(f_0,2))\n",
      "\n"
     ]
    }
   ],
   "source": [
    "hechos = ['HoldsAt(f_0,0)', 'Happens(e_0,0)']\n",
    "hechos += [f'Initiates(e_0,f_0,{t})' for t in tps]\n",
    "hechos += hechos_tiempos\n",
    "for h in hechos:\n",
    "    b.TELL(h)\n",
    "print(b)"
   ]
  },
  {
   "cell_type": "code",
   "execution_count": 33,
   "metadata": {},
   "outputs": [
    {
     "data": {
      "text/plain": [
       "True"
      ]
     },
     "execution_count": 33,
     "metadata": {},
     "output_type": "execute_result"
    }
   ],
   "source": [
    "objetivo = 'HoldsAt(f_0,1)'\n",
    "ASK(objetivo, 'success', b)"
   ]
  },
  {
   "cell_type": "markdown",
   "metadata": {},
   "source": [
    "<a class=\"anchor\" id=\"ej4\"></a>**Ejercicio 4:** \n",
    "\n",
    "([Anterior ejercicio](#ej3)) ([Próximo ejercicio](#ej5))\n",
    "\n",
    "Incluya en la base de conocimiento el hecho de que el evento `APAGAR` ocurre en el instante de tiempo 1. Incluya el axioma `axio_lite2` en la base y haga la consulta si `-HoldsAt(f_0, 2)`."
   ]
  },
  {
   "cell_type": "markdown",
   "metadata": {},
   "source": [
    "---"
   ]
  },
  {
   "cell_type": "markdown",
   "metadata": {},
   "source": [
    "<a class=\"anchor\" id=\"ej5\"></a>**Ejercicio 5:** \n",
    "\n",
    "([Anterior ejercicio](#ej4)) ([Próximo ejercicio](#ej6))\n",
    "\n",
    "Intuitivamente, la respuesta a la anterior consulta debe ser `True`, pero la base está incompleta. Falta la información de que el evento `APAGAR` termina el fluente `encendida`. Incluya esta información en la base de conocimiento y vuelva a hacer la consulta. Esta vez, la consulta debe arrojar `True`."
   ]
  },
  {
   "cell_type": "markdown",
   "metadata": {},
   "source": [
    "---"
   ]
  },
  {
   "cell_type": "markdown",
   "metadata": {},
   "source": [
    "# Codificación de fórmulas fundamentadas <a class=\"anchor\" id=\"cod\"></a>\n",
    "\n",
    "([Volver al inicio](#inicio))\n",
    "\n",
    "Creamos un objeto descriptor y lo incluimos como un atributo de la situación.\n",
    "\n",
    "**Nota:**\n",
    "\n",
    "Es muy importante primero llamar el método `actualizar()` del objeto `sit` antes de crear el descriptor. Esto con el propósito de actualizar los predicados y los objetos de la situación. El número de estos será usado en la creación del descriptor."
   ]
  },
  {
   "cell_type": "code",
   "execution_count": 34,
   "metadata": {},
   "outputs": [
    {
     "name": "stdout",
     "output_type": "stream",
     "text": [
      "Predicados:\n",
      " ['Happens', 'HoldsAt', 'Initiates', 'Terminates', 'Antes', 'APAGAR', 'ENCENDER', 'Encendida']\n",
      "\n",
      "Eventos, fluentes, instantes, objetos:\n",
      " ['e_0', 'e_1', 'f_0', '0', '1', '2', 'luz']\n"
     ]
    }
   ],
   "source": [
    "sit.actualizar()\n",
    "sit.crear_descriptor()\n",
    "print(\"Predicados:\\n\", sit.predicados)\n",
    "print('')\n",
    "print(\"Eventos, fluentes, instantes, objetos:\\n\", sit.todos)"
   ]
  },
  {
   "cell_type": "markdown",
   "metadata": {},
   "source": [
    "**Codificar:**\n",
    "\n",
    "Todo objeto de tipo `Formula` tiene un método `codificar()`. El resultado es un caracter único mediante el cual se codifica la fórmula. Esto no lo podemos leer los humanos, pero será muy importante en la utilización de la transformación de Tseitin."
   ]
  },
  {
   "cell_type": "code",
   "execution_count": null,
   "metadata": {},
   "outputs": [],
   "source": [
    "A = haps.codificar(sit)\n",
    "print(haps, '=>', A)\n",
    "A = term2.codificar(sit)\n",
    "print(term2, '=>', A)\n",
    "ato = sit.fluentes[0].formula\n",
    "A = ato.codificar(sit)\n",
    "print(ato, '=>', A)"
   ]
  },
  {
   "cell_type": "markdown",
   "metadata": {},
   "source": [
    "**Decodificar:**\n",
    "\n",
    "El objeto `sit` tiene un método `formular()` que es el inverso de `codificar()` en las fórmulas. El metodo recibe una fórmula codificada y devuelve un objeto `Formula` de la sublase correspondiente:"
   ]
  },
  {
   "cell_type": "code",
   "execution_count": null,
   "metadata": {},
   "outputs": [],
   "source": [
    "A = haps.codificar(sit)\n",
    "print(haps, '=>', A, '=>', sit.formular(A))\n",
    "A = term2.codificar(sit)\n",
    "print(term2, '=>', A, '=>', sit.formular(A))\n",
    "ato = sit.fluentes[0].formula\n",
    "A = ato.codificar(sit)\n",
    "print(ato, '=>', A, '=>', sit.formular(A))"
   ]
  },
  {
   "cell_type": "markdown",
   "metadata": {},
   "source": [
    "<a class=\"anchor\" id=\"ej6\"></a>**Ejercicio 6:** \n",
    "\n",
    "([Anterior ejercicio](#ej5)) ([Próximo ejercicio](#ej7))\n",
    "\n",
    "Encuentre la codificación de la fórmula:\n",
    "\n",
    "```\n",
    "(Happens(e_0,1)∧(Happens(e_0,1)⇒Terminates(e_0,f_0,0)))\n",
    "```\n",
    "\n",
    "**Nota:**\n",
    "\n",
    "La respuesta debe ser\n",
    "\n",
    "```\n",
    "(Ǡ∧(Ǡ⇒؋))\n",
    "```\n",
    "\n",
    "Observe que la codificación de una fórmula compuesta no es un caracter, sino una fórmula cuyos átomos son caracteres."
   ]
  },
  {
   "cell_type": "markdown",
   "metadata": {},
   "source": [
    "---"
   ]
  },
  {
   "cell_type": "markdown",
   "metadata": {},
   "source": [
    "# Uso de DPLL <a class=\"anchor\" id=\"dpll\"></a>\n",
    "\n",
    "([Volver al inicio](#inicio))\n",
    "\n",
    "Cuando ya tenemos una fórmula codificada, podemos encontrar su transformación de Tseitin:"
   ]
  },
  {
   "cell_type": "code",
   "execution_count": null,
   "metadata": {},
   "outputs": [],
   "source": [
    "B = tseitin(A)\n",
    "print(B)"
   ]
  },
  {
   "cell_type": "markdown",
   "metadata": {},
   "source": [
    "Observe que hemos transformado la fórmula a su forma clausal. Adicionalmente, no tenemos caracteres, sino números. Para ver qué representa cada número, podemos usar el siguiente código:"
   ]
  },
  {
   "cell_type": "code",
   "execution_count": null,
   "metadata": {},
   "outputs": [],
   "source": [
    "n, l = max_letras(A)\n",
    "B = tseitin(A)\n",
    "C = list(set([abs(val) for sublist in B for val in sublist]))\n",
    "[f'{x} => {str(sit.formular(chr(x+256)))}' for x in C if x<n]"
   ]
  },
  {
   "cell_type": "markdown",
   "metadata": {},
   "source": [
    "Los números que aparecen en la transformación que no se decodificaron son los átomos nuevos incluidos en el proceso de transformación de Tseitin."
   ]
  },
  {
   "cell_type": "markdown",
   "metadata": {},
   "source": [
    "Podemos ahora usar el `solve` de la libería `pycosat` para encontrar un modelo para la fórmula:"
   ]
  },
  {
   "cell_type": "code",
   "execution_count": null,
   "metadata": {},
   "outputs": [],
   "source": [
    "res = pycosat.solve(B)\n",
    "[str(sit.formular(chr(x+256))) for x in res if 0<x<n]"
   ]
  },
  {
   "cell_type": "markdown",
   "metadata": {},
   "source": [
    "Si `B` es satisfacible, entonces `solve` encontrará un modelo. Si no, entonces retornará `UNSAT`."
   ]
  },
  {
   "cell_type": "markdown",
   "metadata": {},
   "source": [
    "<a class=\"anchor\" id=\"ej7\"></a>**Ejercicio 7:** \n",
    "\n",
    "([Anterior ejercicio](#ej6)) ([Próximo ejercicio](#ej8))\n",
    "\n",
    "Use el `solve` para determinar si la fórmula `(Happens(e_0,1)∧(Happens(e_0,1)⇒Terminates(e_0,f_0,0)))` implica lógicamente a `Terminates(e_0,f_0,0)`.\n",
    "\n",
    "Use los siguientes resultados de su curso de lógica 2:\n",
    "\n",
    "* Si $U=\\{A_1,\\ldots, A_n\\}$ es un conjunto de fórmulas y $B$ una fórmula, entonces $U\\models B$ sii $(A_1\\land\\ldots\\land A_n)\\to B$ es una fórmula válida.\n",
    "\n",
    "* Si $A$ es una fórmula, entonces $A$ es válida sii $\\neg A$ es insatisfacible."
   ]
  },
  {
   "cell_type": "code",
   "execution_count": null,
   "metadata": {},
   "outputs": [],
   "source": [
    "def ASK_dpll(objetivo, premisas, valor, sit):\n",
    "    # AQUI LA FÓRMULA -A\n",
    "    # AQUI LA CODIFICACION DE -A\n",
    "    # AQUI LA TRANSFORMADA DE TSEITIN, B\n",
    "    res = pycosat.solve(B)\n",
    "    return ((res == 'UNSAT') and valor == 'success')\n",
    "\n",
    "ASK_dpll(term2, Y([haps,Regla(haps, term2)]), 'success', sit)"
   ]
  },
  {
   "cell_type": "markdown",
   "metadata": {},
   "source": [
    "---"
   ]
  },
  {
   "cell_type": "markdown",
   "metadata": {},
   "source": [
    "Mediante el DPLL podemos replicar el resultado anterior en el que usábamos la base de conocimiento. Para ello, sólo necesitamos una  fórmula. Esta fórmula será bastante extensa, compuesta de varias partes. Para las premisas, en primer lugar, incluiremos el axioma :"
   ]
  },
  {
   "cell_type": "code",
   "execution_count": null,
   "metadata": {},
   "outputs": [],
   "source": [
    "lista = []\n",
    "lista.append(axio_lite1)\n",
    "[str(f) for f in lista]"
   ]
  },
  {
   "cell_type": "markdown",
   "metadata": {},
   "source": [
    "A continuación incluimos la información lineal de los instantes:"
   ]
  },
  {
   "cell_type": "code",
   "execution_count": null,
   "metadata": {},
   "outputs": [],
   "source": [
    "hechos_tiempos = [Antes(x.valor, y.valor, x, y) for x in sit.instantes for y in sit.instantes if x.valor<y.valor]\n",
    "hechos_tiempos += [Negacion(Antes(x.valor, y.valor, x, y)) for x in sit.instantes for y in sit.instantes if not x.valor<y.valor]\n",
    "lista += hechos_tiempos\n",
    "[str(f) for f in lista]"
   ]
  },
  {
   "cell_type": "markdown",
   "metadata": {},
   "source": [
    "Finalmente, incluimos los hechos:"
   ]
  },
  {
   "cell_type": "code",
   "execution_count": null,
   "metadata": {},
   "outputs": [],
   "source": [
    "e = sit.eventos[0]\n",
    "f = sit.fluentes[0]\n",
    "t0 = sit.instantes[0]\n",
    "t1 = sit.instantes[1]\n",
    "lista.append(Happens(0,0,e,t0))\n",
    "for t in sit.instantes:\n",
    "    lista.append(Initiates(0, 0, 0, e=e, f=f, t=t))\n",
    "premisas = Y(lista)\n",
    "print(premisas)"
   ]
  },
  {
   "cell_type": "markdown",
   "metadata": {},
   "source": [
    "Verificamos que la codificación haya sido satisfactoria:"
   ]
  },
  {
   "cell_type": "code",
   "execution_count": null,
   "metadata": {},
   "outputs": [],
   "source": [
    "n, atomos = max_letras(premisas.codificar(sit))\n",
    "atomos.sort()\n",
    "[f'{x} => {str(sit.formular(chr(x+256)))}' for x in atomos if x<n]"
   ]
  },
  {
   "cell_type": "markdown",
   "metadata": {},
   "source": [
    "Verificamos que no haya errores en la transformación de Tseitin:"
   ]
  },
  {
   "cell_type": "code",
   "execution_count": null,
   "metadata": {},
   "outputs": [],
   "source": [
    "n, l = max_letras(premisas.codificar(sit))\n",
    "B = tseitin(premisas.codificar(sit))\n",
    "C = list(set([abs(val) for sublist in B for val in sublist]))\n",
    "C.sort()\n",
    "problemas = [x for x in C if (x not in atomos and x < n)]\n",
    "if len(problemas) == 0:\n",
    "    for x in C:\n",
    "        if x<n:\n",
    "            print([f'{x} => {str(sit.formular(chr(x+256)))}'])\n",
    "else:\n",
    "    print('¡Oh, Oh, problemas!', problemas)"
   ]
  },
  {
   "cell_type": "markdown",
   "metadata": {},
   "source": [
    "Ahora creamos el objetivo"
   ]
  },
  {
   "cell_type": "code",
   "execution_count": null,
   "metadata": {},
   "outputs": [],
   "source": [
    "objetivo = HoldsAt(0,0, f, t1)\n",
    "print(objetivo)"
   ]
  },
  {
   "cell_type": "markdown",
   "metadata": {},
   "source": [
    "Determinamos si el objetivo se sigue de las premisas:"
   ]
  },
  {
   "cell_type": "code",
   "execution_count": null,
   "metadata": {},
   "outputs": [],
   "source": [
    "ASK_dpll(objetivo, premisas, 'success', sit)"
   ]
  },
  {
   "cell_type": "markdown",
   "metadata": {},
   "source": [
    "<a class=\"anchor\" id=\"ej8\"></a>**Ejercicio 8:** \n",
    "\n",
    "([Anterior ejercicio](#ej7)) \n",
    "\n",
    "Cree la siguiente fórmula y use la función `ASK_dpll` para determinar si `HoldsAt(f_0,1)`:\n",
    "\n",
    "$$ \\left(Happens(e_1,t_1)\\land Initiates(e,f,t_1)\\land t_1<t_2\\land \\neg StoppedIn(t_1,f,t_2)\\right)\\to HoldsAt(f, t_2) $$"
   ]
  },
  {
   "cell_type": "markdown",
   "metadata": {},
   "source": [
    "---"
   ]
  },
  {
   "cell_type": "markdown",
   "metadata": {},
   "source": [
    "# Ejercicio\n",
    "\n",
    "Represente la situación del ejemplo 2 de las diapositivas, sobre los teléfonos. Suponga que María siempre contesta cuando su teléfono suena. También suponga que Pedro llama a María. Determine si el teléfono de María está ocupado."
   ]
  },
  {
   "cell_type": "markdown",
   "metadata": {},
   "source": [
    "---"
   ]
  },
  {
   "cell_type": "markdown",
   "metadata": {},
   "source": [
    "## En este notebook usted aprendió\n",
    "\n",
    "* Implementar objetos, fórmulas y situaciones del Cálculo de Eventos en Python.\n",
    "* Representar algunas situaciones sencillas.\n",
    "* Usar una base de conocimiento para determinar si algunos fluentes son verdaderos.\n",
    "* Usar un SAT solver para determinar si algunos fluentes son verdaderos."
   ]
  }
 ],
 "metadata": {
  "kernelspec": {
   "display_name": "Python 3 (ipykernel)",
   "language": "python",
   "name": "python3"
  },
  "language_info": {
   "codemirror_mode": {
    "name": "ipython",
    "version": 3
   },
   "file_extension": ".py",
   "mimetype": "text/x-python",
   "name": "python",
   "nbconvert_exporter": "python",
   "pygments_lexer": "ipython3",
   "version": "3.9.7"
  }
 },
 "nbformat": 4,
 "nbformat_minor": 4
}
